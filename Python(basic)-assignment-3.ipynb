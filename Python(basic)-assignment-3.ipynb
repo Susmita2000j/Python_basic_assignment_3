{
 "cells": [
  {
   "cell_type": "markdown",
   "id": "58ecaed9",
   "metadata": {},
   "source": [
    "1. Why are functions advantageous to have in your programs?"
   ]
  },
  {
   "cell_type": "code",
   "execution_count": null,
   "id": "371ef86c",
   "metadata": {},
   "outputs": [],
   "source": [
    "=>Functions reduce the need for duplicate code. This makes programs shorter, easier to read, and easier to update."
   ]
  },
  {
   "cell_type": "markdown",
   "id": "fa0533ee",
   "metadata": {},
   "source": [
    "2. When does the code in a function run: when its specified or when it&#39;s called?"
   ]
  },
  {
   "cell_type": "code",
   "execution_count": null,
   "id": "97c736e7",
   "metadata": {},
   "outputs": [],
   "source": [
    "=>The code in a function executes when the function is called, not when the function is defined."
   ]
  },
  {
   "cell_type": "markdown",
   "id": "a69ab4d7",
   "metadata": {},
   "source": [
    "3. What statement creates a function?"
   ]
  },
  {
   "cell_type": "code",
   "execution_count": null,
   "id": "b44877d6",
   "metadata": {},
   "outputs": [],
   "source": [
    "=>def statement."
   ]
  },
  {
   "cell_type": "markdown",
   "id": "eb516981",
   "metadata": {},
   "source": [
    "4. What is the difference between a function and a function call?"
   ]
  },
  {
   "cell_type": "code",
   "execution_count": null,
   "id": "36940336",
   "metadata": {},
   "outputs": [],
   "source": [
    "=>A function consists of the def statement and A function call is what moves the program execution into the function."
   ]
  },
  {
   "cell_type": "markdown",
   "id": "5899759f",
   "metadata": {},
   "source": [
    "5. How many global scopes are there in a Python program? How many local scopes?"
   ]
  },
  {
   "cell_type": "code",
   "execution_count": null,
   "id": "145d536e",
   "metadata": {},
   "outputs": [],
   "source": [
    "=>There is one global scope, and a local scope is created whenever is called a Function."
   ]
  },
  {
   "cell_type": "markdown",
   "id": "5151cb42",
   "metadata": {},
   "source": [
    "6. What happens to variables in a local scope when the function call returns?"
   ]
  },
  {
   "cell_type": "code",
   "execution_count": null,
   "id": "bb7f0d98",
   "metadata": {},
   "outputs": [],
   "source": []
  },
  {
   "cell_type": "markdown",
   "id": "52bb3ad1",
   "metadata": {},
   "source": [
    "7. What is the concept of a return value? Is it possible to have a return value in an expression?"
   ]
  },
  {
   "cell_type": "code",
   "execution_count": null,
   "id": "2c376f46",
   "metadata": {},
   "outputs": [],
   "source": [
    "=>A return value is the value that a function call evaluates to. Like any value, \n",
    "a return value can be used as part of an expression."
   ]
  },
  {
   "cell_type": "markdown",
   "id": "a18d26eb",
   "metadata": {},
   "source": [
    "8. If a function does not have a return statement, what is the return value of a call to that function?"
   ]
  },
  {
   "cell_type": "code",
   "execution_count": null,
   "id": "b3e02b51",
   "metadata": {},
   "outputs": [],
   "source": [
    "=>If there is no return statement for a function, its return value is None."
   ]
  },
  {
   "cell_type": "markdown",
   "id": "a42733a0",
   "metadata": {},
   "source": [
    "10. What is the data type of None?"
   ]
  },
  {
   "cell_type": "code",
   "execution_count": null,
   "id": "ea9dc55f",
   "metadata": {},
   "outputs": [],
   "source": [
    "=>The data type of None is NoneType."
   ]
  },
  {
   "cell_type": "markdown",
   "id": "ad4d535e",
   "metadata": {},
   "source": [
    "12. If you had a bacon() feature in a spam module, what would you call it after importing spam?"
   ]
  },
  {
   "cell_type": "code",
   "execution_count": null,
   "id": "f1ca55b4",
   "metadata": {},
   "outputs": [],
   "source": [
    "=>spam.bacon()."
   ]
  },
  {
   "cell_type": "markdown",
   "id": "486d9872",
   "metadata": {},
   "source": [
    "13. What can you do to save a programme from crashing if it encounters an error?"
   ]
  },
  {
   "cell_type": "code",
   "execution_count": null,
   "id": "1f088768",
   "metadata": {},
   "outputs": [],
   "source": [
    "=> try clause"
   ]
  },
  {
   "cell_type": "markdown",
   "id": "4086b7bd",
   "metadata": {},
   "source": [
    "14. What is the purpose of the try clause? What is the purpose of the except clause?"
   ]
  },
  {
   "cell_type": "code",
   "execution_count": null,
   "id": "62c6bc04",
   "metadata": {},
   "outputs": [],
   "source": [
    "=>The code that could potentially cause an error goes in the try clause.\n",
    "  The code that executes if an error happens goes in the except clause."
   ]
  }
 ],
 "metadata": {
  "kernelspec": {
   "display_name": "Python 3 (ipykernel)",
   "language": "python",
   "name": "python3"
  },
  "language_info": {
   "codemirror_mode": {
    "name": "ipython",
    "version": 3
   },
   "file_extension": ".py",
   "mimetype": "text/x-python",
   "name": "python",
   "nbconvert_exporter": "python",
   "pygments_lexer": "ipython3",
   "version": "3.10.9"
  }
 },
 "nbformat": 4,
 "nbformat_minor": 5
}
